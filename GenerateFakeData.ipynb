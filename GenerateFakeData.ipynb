{
 "cells": [
  {
   "cell_type": "code",
   "execution_count": 15,
   "metadata": {
    "collapsed": true
   },
   "outputs": [],
   "source": [
    "import pandas as pd\n",
    "import numpy as np\n",
    "import json\n",
    "\n",
    "from faker import Factory\n",
    "fake = Factory.create()\n",
    "\n",
    "# New signed up customer info\n",
    "columns1 = ['id', 'name', 'cardType', 'region', 'income', 'age', 'previousNumCreditCards']\n",
    "\n",
    "# New transactions for credit card\n",
    "columns2 = ['id', 'cardType', 'transactionType', 'name', 'amount', 'balance', 'limit', 'region', 'income', 'age']"
   ]
  },
  {
   "cell_type": "code",
   "execution_count": 8,
   "metadata": {},
   "outputs": [],
   "source": [
    "with open('./data/download.json') as json_data:\n",
    "    d = json.load(json_data)"
   ]
  },
  {
   "cell_type": "code",
   "execution_count": 2,
   "metadata": {
    "collapsed": true
   },
   "outputs": [],
   "source": [
    "df = pd.DataFrame()"
   ]
  },
  {
   "cell_type": "code",
   "execution_count": 14,
   "metadata": {},
   "outputs": [
    {
     "name": "stdout",
     "output_type": "stream",
     "text": [
      "OQIowURkRa\n",
      "FgiphyB3mU\n",
      "v9MliJlCzx\n",
      "g1hA58YEmM\n",
      "3FcNItgWfa\n"
     ]
    }
   ],
   "source": [
    "import string\n",
    "import random\n",
    "entries = 0\n",
    "\n",
    "'''\n",
    "Card Type 0 = Gold\n",
    "Card Type 1 = Silver\n",
    "Card Type 2 = Bronze\n",
    "'''\n",
    "\n",
    "\n",
    "# Generate Gold card sign ups\n",
    "while entries < 5:\n",
    "    id = ''.join(random.choice(string.ascii_uppercase + string.ascii_lowercase + string.digits) for _ in range(10))\n",
    "    cardType = 0\n",
    "    transactionType = random.choice('01234')\n",
    "    name = fake.name()\n",
    "    \n",
    "    entries += 1\n",
    "\n",
    "# Generate Gold card sign ups"
   ]
  },
  {
   "cell_type": "code",
   "execution_count": null,
   "metadata": {
    "collapsed": true
   },
   "outputs": [],
   "source": []
  },
  {
   "cell_type": "code",
   "execution_count": null,
   "metadata": {
    "collapsed": true
   },
   "outputs": [],
   "source": []
  }
 ],
 "metadata": {
  "kernelspec": {
   "display_name": "Python 2",
   "language": "python",
   "name": "python2"
  },
  "language_info": {
   "codemirror_mode": {
    "name": "ipython",
    "version": 2
   },
   "file_extension": ".py",
   "mimetype": "text/x-python",
   "name": "python",
   "nbconvert_exporter": "python",
   "pygments_lexer": "ipython2",
   "version": "2.7.13"
  }
 },
 "nbformat": 4,
 "nbformat_minor": 2
}
